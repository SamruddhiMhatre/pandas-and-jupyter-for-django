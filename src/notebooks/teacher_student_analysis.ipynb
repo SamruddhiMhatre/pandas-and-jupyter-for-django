{
 "cells": [
  {
   "cell_type": "code",
   "execution_count": 1,
   "id": "8b34ee2a",
   "metadata": {},
   "outputs": [
    {
     "data": {
      "text/plain": [
       "['Avg',\n",
       " 'Case',\n",
       " 'ContentType',\n",
       " 'Count',\n",
       " 'Exists',\n",
       " 'F',\n",
       " 'Group',\n",
       " 'In',\n",
       " 'LogEntry',\n",
       " 'Max',\n",
       " 'Min',\n",
       " 'Out',\n",
       " 'OuterRef',\n",
       " 'Permission',\n",
       " 'Prefetch',\n",
       " 'Q',\n",
       " 'Session',\n",
       " 'Students',\n",
       " 'Subquery',\n",
       " 'Sum',\n",
       " 'Teachers',\n",
       " 'User',\n",
       " 'When',\n",
       " '_',\n",
       " '__',\n",
       " '___',\n",
       " '__builtin__',\n",
       " '__builtins__',\n",
       " '__doc__',\n",
       " '__loader__',\n",
       " '__name__',\n",
       " '__package__',\n",
       " '__spec__',\n",
       " '_dh',\n",
       " '_i',\n",
       " '_i1',\n",
       " '_ih',\n",
       " '_ii',\n",
       " '_iii',\n",
       " '_oh',\n",
       " 'cache',\n",
       " 'exit',\n",
       " 'get_ipython',\n",
       " 'get_user_model',\n",
       " 'quit',\n",
       " 'reverse',\n",
       " 'settings',\n",
       " 'timezone',\n",
       " 'transaction']"
      ]
     },
     "execution_count": 1,
     "metadata": {},
     "output_type": "execute_result"
    }
   ],
   "source": [
    "dir()"
   ]
  },
  {
   "cell_type": "code",
   "execution_count": 2,
   "id": "659b31be",
   "metadata": {},
   "outputs": [],
   "source": [
    "import pandas as pd"
   ]
  },
  {
   "cell_type": "markdown",
   "id": "83983574",
   "metadata": {},
   "source": [
    "[Solution](https://stackoverflow.com/questions/61926359/django-synchronousonlyoperation-you-cannot-call-this-from-an-async-context-u)"
   ]
  },
  {
   "cell_type": "code",
   "execution_count": 3,
   "id": "c3ed922f",
   "metadata": {},
   "outputs": [],
   "source": [
    "import os\n",
    "import django\n",
    "os.environ.setdefault('DJANGO_SETTINGS_MODULE', 'dj_pd.settings')\n",
    "os.environ[\"DJANGO_ALLOW_ASYNC_UNSAFE\"] = \"true\"\n",
    "django.setup()"
   ]
  },
  {
   "cell_type": "code",
   "execution_count": 4,
   "id": "aab36ce4",
   "metadata": {},
   "outputs": [],
   "source": [
    "from teacher.models import Teachers\n",
    "from student.models import Students"
   ]
  },
  {
   "cell_type": "code",
   "execution_count": 5,
   "id": "e2fd481e",
   "metadata": {},
   "outputs": [],
   "source": [
    "student_df = pd.DataFrame(Students.objects.all().values())\n",
    "teacher_df = pd.DataFrame(Teachers.objects.all().values())"
   ]
  },
  {
   "cell_type": "code",
   "execution_count": 6,
   "id": "a3321d21",
   "metadata": {},
   "outputs": [
    {
     "data": {
      "text/html": [
       "<div>\n",
       "<style scoped>\n",
       "    .dataframe tbody tr th:only-of-type {\n",
       "        vertical-align: middle;\n",
       "    }\n",
       "\n",
       "    .dataframe tbody tr th {\n",
       "        vertical-align: top;\n",
       "    }\n",
       "\n",
       "    .dataframe thead th {\n",
       "        text-align: right;\n",
       "    }\n",
       "</style>\n",
       "<table border=\"1\" class=\"dataframe\">\n",
       "  <thead>\n",
       "    <tr style=\"text-align: right;\">\n",
       "      <th></th>\n",
       "      <th>id</th>\n",
       "      <th>name</th>\n",
       "      <th>standard</th>\n",
       "      <th>subjects</th>\n",
       "    </tr>\n",
       "  </thead>\n",
       "  <tbody>\n",
       "    <tr>\n",
       "      <th>0</th>\n",
       "      <td>1</td>\n",
       "      <td>Rachel</td>\n",
       "      <td>8</td>\n",
       "      <td>Maths, English</td>\n",
       "    </tr>\n",
       "    <tr>\n",
       "      <th>1</th>\n",
       "      <td>2</td>\n",
       "      <td>Ross</td>\n",
       "      <td>9</td>\n",
       "      <td>Maths, English,Science</td>\n",
       "    </tr>\n",
       "    <tr>\n",
       "      <th>2</th>\n",
       "      <td>3</td>\n",
       "      <td>Chandler</td>\n",
       "      <td>9</td>\n",
       "      <td>Maths, English,History</td>\n",
       "    </tr>\n",
       "    <tr>\n",
       "      <th>3</th>\n",
       "      <td>4</td>\n",
       "      <td>Monica</td>\n",
       "      <td>8</td>\n",
       "      <td>Maths,History</td>\n",
       "    </tr>\n",
       "    <tr>\n",
       "      <th>4</th>\n",
       "      <td>5</td>\n",
       "      <td>Pheobe</td>\n",
       "      <td>10</td>\n",
       "      <td>English,History</td>\n",
       "    </tr>\n",
       "    <tr>\n",
       "      <th>5</th>\n",
       "      <td>6</td>\n",
       "      <td>Joey</td>\n",
       "      <td>10</td>\n",
       "      <td>English,Science</td>\n",
       "    </tr>\n",
       "  </tbody>\n",
       "</table>\n",
       "</div>"
      ],
      "text/plain": [
       "   id      name  standard                subjects\n",
       "0   1    Rachel         8          Maths, English\n",
       "1   2      Ross         9  Maths, English,Science\n",
       "2   3  Chandler         9  Maths, English,History\n",
       "3   4    Monica         8           Maths,History\n",
       "4   5    Pheobe        10         English,History\n",
       "5   6      Joey        10         English,Science"
      ]
     },
     "execution_count": 6,
     "metadata": {},
     "output_type": "execute_result"
    }
   ],
   "source": [
    "student_df"
   ]
  },
  {
   "cell_type": "code",
   "execution_count": 7,
   "id": "855b2f11",
   "metadata": {},
   "outputs": [
    {
     "data": {
      "text/html": [
       "<div>\n",
       "<style scoped>\n",
       "    .dataframe tbody tr th:only-of-type {\n",
       "        vertical-align: middle;\n",
       "    }\n",
       "\n",
       "    .dataframe tbody tr th {\n",
       "        vertical-align: top;\n",
       "    }\n",
       "\n",
       "    .dataframe thead th {\n",
       "        text-align: right;\n",
       "    }\n",
       "</style>\n",
       "<table border=\"1\" class=\"dataframe\">\n",
       "  <thead>\n",
       "    <tr style=\"text-align: right;\">\n",
       "      <th></th>\n",
       "      <th>id</th>\n",
       "      <th>name</th>\n",
       "      <th>subjects</th>\n",
       "    </tr>\n",
       "  </thead>\n",
       "  <tbody>\n",
       "    <tr>\n",
       "      <th>0</th>\n",
       "      <td>1</td>\n",
       "      <td>Sheldon</td>\n",
       "      <td>Maths</td>\n",
       "    </tr>\n",
       "    <tr>\n",
       "      <th>1</th>\n",
       "      <td>2</td>\n",
       "      <td>Penny</td>\n",
       "      <td>English</td>\n",
       "    </tr>\n",
       "    <tr>\n",
       "      <th>2</th>\n",
       "      <td>3</td>\n",
       "      <td>Amy</td>\n",
       "      <td>History</td>\n",
       "    </tr>\n",
       "    <tr>\n",
       "      <th>3</th>\n",
       "      <td>4</td>\n",
       "      <td>Howard</td>\n",
       "      <td>Science</td>\n",
       "    </tr>\n",
       "  </tbody>\n",
       "</table>\n",
       "</div>"
      ],
      "text/plain": [
       "   id     name subjects\n",
       "0   1  Sheldon    Maths\n",
       "1   2    Penny  English\n",
       "2   3      Amy  History\n",
       "3   4   Howard  Science"
      ]
     },
     "execution_count": 7,
     "metadata": {},
     "output_type": "execute_result"
    }
   ],
   "source": [
    "teacher_df"
   ]
  },
  {
   "cell_type": "code",
   "execution_count": 37,
   "id": "4b78181b",
   "metadata": {},
   "outputs": [],
   "source": [
    "import re\n",
    "import spacy\n",
    "import en_core_web_sm\n",
    "nlp = spacy.load('en_core_web_md')"
   ]
  },
  {
   "cell_type": "code",
   "execution_count": 17,
   "id": "98627bc8",
   "metadata": {},
   "outputs": [
    {
     "name": "stderr",
     "output_type": "stream",
     "text": [
      "/Users/samruddhimhatre/PycharmProjects/pandas_django_jupyter/venv/lib/python3.7/site-packages/ipykernel_launcher.py:6: UserWarning: [W007] The model you're using has no word vectors loaded, so the result of the Doc.similarity method will be based on the tagger, parser and NER, which may not give useful similarity judgements. This may happen if you're using one of the small models, e.g. `en_core_web_sm`, which don't ship with word vectors and only use context-sensitive tensors. You can always add your own word vectors, or use one of the larger models instead if available.\n",
      "  \n"
     ]
    }
   ],
   "source": [
    "student_name, student_subject = student_df['name'][0], student_df['subjects'][0]\n",
    "doc_subject = nlp(student_subject)\n",
    "similarity = []\n",
    "for subject in teacher_df['subjects']:\n",
    "    doc = nlp(subject)\n",
    "    similarity.append(doc_subject.similarity(doc))\n",
    "\n",
    "teacher_df['similarity_score'] = similarity"
   ]
  },
  {
   "cell_type": "code",
   "execution_count": 15,
   "id": "46f96ee1",
   "metadata": {},
   "outputs": [
    {
     "data": {
      "text/plain": [
       "('Rachel', 'Maths, English')"
      ]
     },
     "execution_count": 15,
     "metadata": {},
     "output_type": "execute_result"
    }
   ],
   "source": [
    "student_name, student_subject"
   ]
  },
  {
   "cell_type": "code",
   "execution_count": 22,
   "id": "c2928f15",
   "metadata": {},
   "outputs": [
    {
     "data": {
      "text/html": [
       "<div>\n",
       "<style scoped>\n",
       "    .dataframe tbody tr th:only-of-type {\n",
       "        vertical-align: middle;\n",
       "    }\n",
       "\n",
       "    .dataframe tbody tr th {\n",
       "        vertical-align: top;\n",
       "    }\n",
       "\n",
       "    .dataframe thead th {\n",
       "        text-align: right;\n",
       "    }\n",
       "</style>\n",
       "<table border=\"1\" class=\"dataframe\">\n",
       "  <thead>\n",
       "    <tr style=\"text-align: right;\">\n",
       "      <th></th>\n",
       "      <th>name</th>\n",
       "      <th>subjects</th>\n",
       "    </tr>\n",
       "  </thead>\n",
       "  <tbody>\n",
       "    <tr>\n",
       "      <th>1</th>\n",
       "      <td>Penny</td>\n",
       "      <td>English</td>\n",
       "    </tr>\n",
       "    <tr>\n",
       "      <th>0</th>\n",
       "      <td>Sheldon</td>\n",
       "      <td>Maths</td>\n",
       "    </tr>\n",
       "  </tbody>\n",
       "</table>\n",
       "</div>"
      ],
      "text/plain": [
       "      name subjects\n",
       "1    Penny  English\n",
       "0  Sheldon    Maths"
      ]
     },
     "execution_count": 22,
     "metadata": {},
     "output_type": "execute_result"
    }
   ],
   "source": [
    "head = len(student_subject.split())\n",
    "teacher_df.sort_values('similarity_score', ascending = False)[['name','subjects']].head(head)\n"
   ]
  },
  {
   "cell_type": "code",
   "execution_count": 21,
   "id": "47f32416",
   "metadata": {},
   "outputs": [
    {
     "data": {
      "text/plain": [
       "2"
      ]
     },
     "execution_count": 21,
     "metadata": {},
     "output_type": "execute_result"
    }
   ],
   "source": [
    "len(student_subject.split())"
   ]
  },
  {
   "cell_type": "code",
   "execution_count": 38,
   "id": "143f96a8",
   "metadata": {},
   "outputs": [],
   "source": [
    "teacher_name, teacher_subject = teacher_df['name'][0], teacher_df['subjects'][0]\n",
    "doc_subject = nlp(teacher_subject)\n",
    "similarity = []\n",
    "for subject in student_df['subjects']:\n",
    "#     subject_list = subject.split()\n",
    "    doc = nlp(subject)\n",
    "    similarity.append(doc_subject.similarity(doc))\n",
    "\n",
    "student_df['similarity_score'] = similarity"
   ]
  },
  {
   "cell_type": "code",
   "execution_count": 26,
   "id": "8b967887",
   "metadata": {},
   "outputs": [
    {
     "data": {
      "text/plain": [
       "('Sheldon', 'Maths')"
      ]
     },
     "execution_count": 26,
     "metadata": {},
     "output_type": "execute_result"
    }
   ],
   "source": [
    "teacher_name, teacher_subject"
   ]
  },
  {
   "cell_type": "code",
   "execution_count": 39,
   "id": "ed1dde80",
   "metadata": {},
   "outputs": [
    {
     "data": {
      "text/html": [
       "<div>\n",
       "<style scoped>\n",
       "    .dataframe tbody tr th:only-of-type {\n",
       "        vertical-align: middle;\n",
       "    }\n",
       "\n",
       "    .dataframe tbody tr th {\n",
       "        vertical-align: top;\n",
       "    }\n",
       "\n",
       "    .dataframe thead th {\n",
       "        text-align: right;\n",
       "    }\n",
       "</style>\n",
       "<table border=\"1\" class=\"dataframe\">\n",
       "  <thead>\n",
       "    <tr style=\"text-align: right;\">\n",
       "      <th></th>\n",
       "      <th>id</th>\n",
       "      <th>name</th>\n",
       "      <th>standard</th>\n",
       "      <th>subjects</th>\n",
       "      <th>similarity_score</th>\n",
       "    </tr>\n",
       "  </thead>\n",
       "  <tbody>\n",
       "    <tr>\n",
       "      <th>0</th>\n",
       "      <td>1</td>\n",
       "      <td>Rachel</td>\n",
       "      <td>8</td>\n",
       "      <td>Maths, English</td>\n",
       "      <td>0.783193</td>\n",
       "    </tr>\n",
       "    <tr>\n",
       "      <th>1</th>\n",
       "      <td>2</td>\n",
       "      <td>Ross</td>\n",
       "      <td>9</td>\n",
       "      <td>Maths, English,Science</td>\n",
       "      <td>0.690029</td>\n",
       "    </tr>\n",
       "    <tr>\n",
       "      <th>2</th>\n",
       "      <td>3</td>\n",
       "      <td>Chandler</td>\n",
       "      <td>9</td>\n",
       "      <td>Maths, English,History</td>\n",
       "      <td>0.613917</td>\n",
       "    </tr>\n",
       "    <tr>\n",
       "      <th>3</th>\n",
       "      <td>4</td>\n",
       "      <td>Monica</td>\n",
       "      <td>8</td>\n",
       "      <td>Maths,History</td>\n",
       "      <td>0.707060</td>\n",
       "    </tr>\n",
       "    <tr>\n",
       "      <th>4</th>\n",
       "      <td>5</td>\n",
       "      <td>Pheobe</td>\n",
       "      <td>10</td>\n",
       "      <td>English,History</td>\n",
       "      <td>0.345183</td>\n",
       "    </tr>\n",
       "    <tr>\n",
       "      <th>5</th>\n",
       "      <td>6</td>\n",
       "      <td>Joey</td>\n",
       "      <td>10</td>\n",
       "      <td>English,Science</td>\n",
       "      <td>0.513650</td>\n",
       "    </tr>\n",
       "  </tbody>\n",
       "</table>\n",
       "</div>"
      ],
      "text/plain": [
       "   id      name  standard                subjects  similarity_score\n",
       "0   1    Rachel         8          Maths, English          0.783193\n",
       "1   2      Ross         9  Maths, English,Science          0.690029\n",
       "2   3  Chandler         9  Maths, English,History          0.613917\n",
       "3   4    Monica         8           Maths,History          0.707060\n",
       "4   5    Pheobe        10         English,History          0.345183\n",
       "5   6      Joey        10         English,Science          0.513650"
      ]
     },
     "execution_count": 39,
     "metadata": {},
     "output_type": "execute_result"
    }
   ],
   "source": [
    "student_df"
   ]
  },
  {
   "cell_type": "code",
   "execution_count": 42,
   "id": "a66ababa",
   "metadata": {},
   "outputs": [
    {
     "data": {
      "text/html": [
       "<div>\n",
       "<style scoped>\n",
       "    .dataframe tbody tr th:only-of-type {\n",
       "        vertical-align: middle;\n",
       "    }\n",
       "\n",
       "    .dataframe tbody tr th {\n",
       "        vertical-align: top;\n",
       "    }\n",
       "\n",
       "    .dataframe thead th {\n",
       "        text-align: right;\n",
       "    }\n",
       "</style>\n",
       "<table border=\"1\" class=\"dataframe\">\n",
       "  <thead>\n",
       "    <tr style=\"text-align: right;\">\n",
       "      <th></th>\n",
       "      <th>name</th>\n",
       "      <th>standard</th>\n",
       "      <th>subjects</th>\n",
       "    </tr>\n",
       "  </thead>\n",
       "  <tbody>\n",
       "    <tr>\n",
       "      <th>0</th>\n",
       "      <td>Rachel</td>\n",
       "      <td>8</td>\n",
       "      <td>Maths, English</td>\n",
       "    </tr>\n",
       "    <tr>\n",
       "      <th>3</th>\n",
       "      <td>Monica</td>\n",
       "      <td>8</td>\n",
       "      <td>Maths,History</td>\n",
       "    </tr>\n",
       "    <tr>\n",
       "      <th>1</th>\n",
       "      <td>Ross</td>\n",
       "      <td>9</td>\n",
       "      <td>Maths, English,Science</td>\n",
       "    </tr>\n",
       "    <tr>\n",
       "      <th>2</th>\n",
       "      <td>Chandler</td>\n",
       "      <td>9</td>\n",
       "      <td>Maths, English,History</td>\n",
       "    </tr>\n",
       "  </tbody>\n",
       "</table>\n",
       "</div>"
      ],
      "text/plain": [
       "       name  standard                subjects\n",
       "0    Rachel         8          Maths, English\n",
       "3    Monica         8           Maths,History\n",
       "1      Ross         9  Maths, English,Science\n",
       "2  Chandler         9  Maths, English,History"
      ]
     },
     "execution_count": 42,
     "metadata": {},
     "output_type": "execute_result"
    }
   ],
   "source": [
    "student_df[student_df['similarity_score']>=0.55].sort_values('similarity_score', ascending = False)[['name','standard','subjects']].head()"
   ]
  },
  {
   "cell_type": "code",
   "execution_count": null,
   "id": "ce3b1082",
   "metadata": {},
   "outputs": [],
   "source": []
  }
 ],
 "metadata": {
  "kernelspec": {
   "display_name": "Django Shell-Plus",
   "language": "python",
   "name": "django_extensions"
  },
  "language_info": {
   "codemirror_mode": {
    "name": "ipython",
    "version": 3
   },
   "file_extension": ".py",
   "mimetype": "text/x-python",
   "name": "python",
   "nbconvert_exporter": "python",
   "pygments_lexer": "ipython3",
   "version": "3.7.4"
  }
 },
 "nbformat": 4,
 "nbformat_minor": 5
}
